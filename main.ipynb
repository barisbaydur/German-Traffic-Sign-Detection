{
  "nbformat": 4,
  "nbformat_minor": 0,
  "metadata": {
    "colab": {
      "name": "main.ipynb",
      "provenance": [],
      "collapsed_sections": [],
      "mount_file_id": "1rHSc6dYHGAM2d-FuJ0g_zjZpPcNlZqOg",
      "authorship_tag": "ABX9TyOobKnuVof2SGXPdQ306BsV",
      "include_colab_link": true
    },
    "kernelspec": {
      "name": "python3",
      "display_name": "Python 3"
    },
    "language_info": {
      "name": "python"
    }
  },
  "cells": [
    {
      "cell_type": "markdown",
      "metadata": {
        "id": "view-in-github",
        "colab_type": "text"
      },
      "source": [
        "<a href=\"https://colab.research.google.com/github/barisbaydur/German-Traffic-Sign-Detection/blob/main/main.ipynb\" target=\"_parent\"><img src=\"https://colab.research.google.com/assets/colab-badge.svg\" alt=\"Open In Colab\"/></a>"
      ]
    },
    {
      "cell_type": "code",
      "source": [
        "%env ROOTPATH=/content/drive/MyDrive/"
      ],
      "metadata": {
        "id": "dMjPAM6k0-Sx"
      },
      "execution_count": null,
      "outputs": []
    },
    {
      "cell_type": "markdown",
      "source": [
        "Download dataset"
      ],
      "metadata": {
        "id": "TUsjZGpB0x2h"
      }
    },
    {
      "cell_type": "code",
      "execution_count": null,
      "metadata": {
        "id": "cNtrsD6xw6f6"
      },
      "outputs": [],
      "source": [
        "!wget https://sid.erda.dk/public/archives/ff17dc924eba88d5d01a807357d6614c/FullIJCNN2013.zip $rootPath"
      ]
    },
    {
      "cell_type": "markdown",
      "source": [
        "Install"
      ],
      "metadata": {
        "id": "NrLW0b2i01iB"
      }
    },
    {
      "cell_type": "code",
      "source": [
        "!unzip ${ROOTPATH}/FullIJCNN2013.zip\n",
        "!mkdir ${ROOTPATH}/dataset/train ${ROOTPATH}/dataset/test\n",
        "!mv ${ROOTPATH}/dataset/00 ${ROOTPATH}/dataset/train/0\n",
        "!mv ${ROOTPATH}/dataset/0* ${ROOTPATH}/dataset/test/\n",
        "!mv ${ROOTPATH}/dataset/0* ${ROOTPATH}/dataset/1* ${ROOTPATH}/dataset/2* ${ROOTPATH}/dataset/3* ${ROOTPATH}/dataset/4* ${ROOTPATH}/dataset/train"
      ],
      "metadata": {
        "id": "JNkmvBHF06NA"
      },
      "execution_count": null,
      "outputs": []
    },
    {
      "cell_type": "markdown",
      "source": [
        "Import Libraries"
      ],
      "metadata": {
        "id": "uE94S99O4xV5"
      }
    },
    {
      "cell_type": "code",
      "source": [
        ""
      ],
      "metadata": {
        "id": "jeNhlgLA126Y"
      },
      "execution_count": null,
      "outputs": []
    }
  ]
}