{
  "nbformat": 4,
  "nbformat_minor": 0,
  "metadata": {
    "colab": {
      "name": "main.ipynb",
      "provenance": [],
      "collapsed_sections": [],
      "mount_file_id": "1rHSc6dYHGAM2d-FuJ0g_zjZpPcNlZqOg",
      "authorship_tag": "ABX9TyN+YX+VJl+obBdWSOy7oBl5"
    },
    "kernelspec": {
      "name": "python3",
      "display_name": "Python 3"
    },
    "language_info": {
      "name": "python"
    }
  },
  "cells": [
    {
      "cell_type": "code",
      "source": [
        "%env ROOTPATH=/content/drive/MyDrive/"
      ],
      "metadata": {
        "id": "dMjPAM6k0-Sx"
      },
      "execution_count": null,
      "outputs": []
    },
    {
      "cell_type": "markdown",
      "source": [
        "Download dataset"
      ],
      "metadata": {
        "id": "TUsjZGpB0x2h"
      }
    },
    {
      "cell_type": "code",
      "execution_count": null,
      "metadata": {
        "id": "cNtrsD6xw6f6"
      },
      "outputs": [],
      "source": [
        "!wget https://sid.erda.dk/public/archives/ff17dc924eba88d5d01a807357d6614c/FullIJCNN2013.zip $rootPath"
      ]
    },
    {
      "cell_type": "markdown",
      "source": [
        "Install"
      ],
      "metadata": {
        "id": "NrLW0b2i01iB"
      }
    },
    {
      "cell_type": "code",
      "source": [
        "!unzip ${ROOTPATH}/FullIJCNN2013.zip\n",
        "!mkdir ${ROOTPATH}/dataset/train ${ROOTPATH}/dataset/test\n",
        "!mv ${ROOTPATH}/dataset/00 ${ROOTPATH}/dataset/train/0\n",
        "!mv ${ROOTPATH}/dataset/0* ${ROOTPATH}/dataset/test/\n",
        "!mv ${ROOTPATH}/dataset/0* ${ROOTPATH}/dataset/1* ${ROOTPATH}/dataset/2* ${ROOTPATH}/dataset/3* ${ROOTPATH}/dataset/4* ${ROOTPATH}/dataset/train"
      ],
      "metadata": {
        "id": "JNkmvBHF06NA"
      },
      "execution_count": null,
      "outputs": []
    },
    {
      "cell_type": "markdown",
      "source": [
        "Import Libraries"
      ],
      "metadata": {
        "id": "uE94S99O4xV5"
      }
    },
    {
      "cell_type": "code",
      "source": [
        "import os\n",
        "import cv2\n",
        "import numpy as np\n",
        "from pathlib import Path"
      ],
      "metadata": {
        "id": "jeNhlgLA126Y"
      },
      "execution_count": 52,
      "outputs": []
    },
    {
      "cell_type": "markdown",
      "source": [
        "Paths"
      ],
      "metadata": {
        "id": "eafihoIe6v2v"
      }
    },
    {
      "cell_type": "code",
      "source": [
        "rootDir = Path(\"/content/drive/MyDrive/Traffic-Sign/\")\n",
        "dataDir = rootDir/\"dataset/\"\n",
        "trainDir = dataDir/\"train/\"\n",
        "testDir = dataDir/\"test/\""
      ],
      "metadata": {
        "id": "M7ceN7ce6zAn"
      },
      "execution_count": 54,
      "outputs": []
    },
    {
      "cell_type": "code",
      "source": [
        "numberOfClasses = len(os.listdir(trainDir))\n",
        "print(\"Class number: {}\".format(numberOfClasses))"
      ],
      "metadata": {
        "colab": {
          "base_uri": "https://localhost:8080/"
        },
        "id": "si-XevGj5YWp",
        "outputId": "f87f0450-f1fa-4078-db01-0f63be7e2442"
      },
      "execution_count": 64,
      "outputs": [
        {
          "output_type": "stream",
          "name": "stdout",
          "text": [
            "Class number: 43\n"
          ]
        }
      ]
    },
    {
      "cell_type": "markdown",
      "source": [
        "Load Training Data"
      ],
      "metadata": {
        "id": "4GOgCOBe_Nyn"
      }
    },
    {
      "cell_type": "code",
      "source": [
        "images = []\n",
        "classes = []\n",
        "\n",
        "for folder in trainDir.glob(\"*\"):\n",
        "  trainImage = (trainDir/folder.name).glob(\"*.ppm\")\n",
        "  for img in trainImage:\n",
        "    images.append(trainDir/folder.name/img)\n",
        "    classes.append(folder.name)\n",
        "\n",
        "images = np.array(images)\n",
        "classes = np.array(classes)"
      ],
      "metadata": {
        "id": "9wPbJ3Mu6SUO"
      },
      "execution_count": null,
      "outputs": []
    }
  ]
}