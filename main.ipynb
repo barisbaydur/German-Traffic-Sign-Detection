{
  "nbformat": 4,
  "nbformat_minor": 0,
  "metadata": {
    "colab": {
      "name": "main.ipynb",
      "provenance": [],
      "collapsed_sections": [],
      "mount_file_id": "1rHSc6dYHGAM2d-FuJ0g_zjZpPcNlZqOg",
      "authorship_tag": "ABX9TyMqp2fAAMHs3E9JcsS02aZ0"
    },
    "kernelspec": {
      "name": "python3",
      "display_name": "Python 3"
    },
    "language_info": {
      "name": "python"
    }
  },
  "cells": [
    {
      "cell_type": "code",
      "source": [
        "%env ROOTPATH=/content/drive/MyDrive/"
      ],
      "metadata": {
        "id": "dMjPAM6k0-Sx"
      },
      "execution_count": null,
      "outputs": []
    },
    {
      "cell_type": "markdown",
      "source": [
        "Download dataset"
      ],
      "metadata": {
        "id": "TUsjZGpB0x2h"
      }
    },
    {
      "cell_type": "code",
      "execution_count": null,
      "metadata": {
        "id": "cNtrsD6xw6f6"
      },
      "outputs": [],
      "source": [
        "!wget https://sid.erda.dk/public/archives/ff17dc924eba88d5d01a807357d6614c/FullIJCNN2013.zip $rootPath"
      ]
    },
    {
      "cell_type": "markdown",
      "source": [
        "Install"
      ],
      "metadata": {
        "id": "NrLW0b2i01iB"
      }
    },
    {
      "cell_type": "code",
      "source": [
        "!unzip ${ROOTPATH}/FullIJCNN2013.zip\n",
        "!mkdir ${ROOTPATH}/dataset/train ${ROOTPATH}/dataset/test\n",
        "!mv ${ROOTPATH}/dataset/00 ${ROOTPATH}/dataset/train/0\n",
        "!mv ${ROOTPATH}/dataset/0* ${ROOTPATH}/dataset/test/\n",
        "!mv ${ROOTPATH}/dataset/0* ${ROOTPATH}/dataset/1* ${ROOTPATH}/dataset/2* ${ROOTPATH}/dataset/3* ${ROOTPATH}/dataset/4* ${ROOTPATH}/dataset/train"
      ],
      "metadata": {
        "id": "JNkmvBHF06NA"
      },
      "execution_count": null,
      "outputs": []
    },
    {
      "cell_type": "markdown",
      "source": [
        "Import Libraries"
      ],
      "metadata": {
        "id": "uE94S99O4xV5"
      }
    },
    {
      "cell_type": "code",
      "source": [
        "import os\n",
        "import cv2\n",
        "import numpy as np\n",
        "import matplotlib.pyplot as plt\n",
        "from pathlib import Path\n",
        "from sklearn.model_selection import train_test_split\n",
        "from google.colab.patches import cv2_imshow"
      ],
      "metadata": {
        "id": "jeNhlgLA126Y"
      },
      "execution_count": 122,
      "outputs": []
    },
    {
      "cell_type": "markdown",
      "source": [
        "Variable"
      ],
      "metadata": {
        "id": "eafihoIe6v2v"
      }
    },
    {
      "cell_type": "code",
      "source": [
        "rootDir = Path(\"/content/drive/MyDrive/Traffic-Sign/\")\n",
        "dataDir = rootDir/\"dataset/\"\n",
        "trainDir = dataDir/\"train/\"\n",
        "testDir = dataDir/\"test/\"\n",
        "\n",
        "testRatio = 0.2\n",
        "validationRatio = 0.2"
      ],
      "metadata": {
        "id": "M7ceN7ce6zAn"
      },
      "execution_count": 86,
      "outputs": []
    },
    {
      "cell_type": "code",
      "source": [
        "numberOfClasses = len(os.listdir(trainDir))\n",
        "print(\"Class number: {}\".format(numberOfClasses))"
      ],
      "metadata": {
        "colab": {
          "base_uri": "https://localhost:8080/"
        },
        "id": "si-XevGj5YWp",
        "outputId": "f87f0450-f1fa-4078-db01-0f63be7e2442"
      },
      "execution_count": 64,
      "outputs": [
        {
          "output_type": "stream",
          "name": "stdout",
          "text": [
            "Class number: 43\n"
          ]
        }
      ]
    },
    {
      "cell_type": "markdown",
      "source": [
        "Load Training Data"
      ],
      "metadata": {
        "id": "4GOgCOBe_Nyn"
      }
    },
    {
      "cell_type": "code",
      "source": [
        "images = []\n",
        "classes = []\n",
        "\n",
        "for folder in trainDir.glob(\"*\"):\n",
        "  trainImage = (trainDir/folder.name).glob(\"*.ppm\")\n",
        "  for img in trainImage:\n",
        "    images.append(trainDir/folder.name/img)\n",
        "    classes.append(int(folder.name))\n",
        "\n",
        "images = np.array(images)\n",
        "classes = np.array(classes)"
      ],
      "metadata": {
        "id": "9wPbJ3Mu6SUO"
      },
      "execution_count": 96,
      "outputs": []
    },
    {
      "cell_type": "markdown",
      "source": [
        "Spliting Data"
      ],
      "metadata": {
        "id": "6hbn4SCv_c6f"
      }
    },
    {
      "cell_type": "code",
      "source": [
        "X_train, X_test, Y_train, Y_test = train_test_split(images, classes, test_size=testRatio)\n",
        "X_train, X_validation, Y_train, Y_validation = train_test_split(X_train, Y_train, test_size=validationRatio)\n",
        "\n",
        "X_train = np.array(X_train)\n",
        "X_test = np.array(X_test)\n",
        "X_validation = np.array(X_validation)\n",
        "\n",
        "Y_train = np.array(Y_train)\n",
        "Y_test = np.array(Y_test)\n",
        "Y_validation = np.array(Y_validation)"
      ],
      "metadata": {
        "id": "7JRNZQrj_hoZ"
      },
      "execution_count": 149,
      "outputs": []
    },
    {
      "cell_type": "markdown",
      "source": [
        "Number of the Samples"
      ],
      "metadata": {
        "id": "tMU7g9KJCqGv"
      }
    },
    {
      "cell_type": "code",
      "source": [
        "numberOfSamples = []\n",
        "for i in range(0, numberOfClasses):\n",
        "  numberOfSamples.append(len(np.where(Y_train==i)[0]))\n",
        "print(numberOfSamples)"
      ],
      "metadata": {
        "colab": {
          "base_uri": "https://localhost:8080/"
        },
        "id": "Ho4IGJT-CseX",
        "outputId": "7316ff18-43e5-4dbb-b395-de13461addbd"
      },
      "execution_count": 112,
      "outputs": [
        {
          "output_type": "stream",
          "name": "stdout",
          "text": [
            "[3, 48, 48, 14, 49, 32, 13, 25, 34, 29, 50, 28, 42, 53, 25, 8, 4, 20, 22, 2, 6, 4, 9, 12, 2, 22, 15, 3, 9, 4, 8, 2, 8, 12, 9, 16, 7, 1, 56, 4, 6, 3, 9]\n"
          ]
        }
      ]
    },
    {
      "cell_type": "code",
      "source": [
        "plt.figure(figsize=(10, 5))\n",
        "plt.bar(range(0, numberOfClasses), numberOfSamples)\n",
        "plt.title(\"Number of Images for Each Class\")\n",
        "plt.xlabel(\"Class ID\")\n",
        "plt.ylabel(\"Number of Images\")\n",
        "plt.show()"
      ],
      "metadata": {
        "colab": {
          "base_uri": "https://localhost:8080/",
          "height": 350
        },
        "id": "No1zd8UjELDq",
        "outputId": "facd64b7-752a-4fdf-dab3-5b9f8b0a65f7"
      },
      "execution_count": 113,
      "outputs": [
        {
          "output_type": "display_data",
          "data": {
            "text/plain": [
              "<Figure size 720x360 with 1 Axes>"
            ],
            "image/png": "[encoded data removed]"
          },
          "metadata": {
            "needs_background": "light"
          }
        }
      ]
    },
    {
      "cell_type": "markdown",
      "source": [
        "Preproccessing"
      ],
      "metadata": {
        "id": "qXVIq3x4E0MF"
      }
    },
    {
      "cell_type": "code",
      "source": [
        "def preProccessing(img):\n",
        "  img = cv2.imread(str(img))\n",
        "  img = cv2.resize(img, (128, 128))\n",
        "  img = cv2.cvtColor(img, cv2.COLOR_BGR2GRAY)\n",
        "  img = cv2.equalizeHist(img)\n",
        "  # img = img/255.\n",
        "  return img\n",
        "\n",
        "img = preProccessing(X_train[30])\n",
        "cv2_imshow(img)"
      ],
      "metadata": {
        "colab": {
          "base_uri": "https://localhost:8080/",
          "height": 145
        },
        "id": "IqXZ1wVCE2Hd",
        "outputId": "f0df6a6e-54ae-43cf-b58c-d3436e8cee41"
      },
      "execution_count": 152,
      "outputs": [
        {
          "output_type": "display_data",
          "data": {
            "text/plain": [
              "<PIL.Image.Image image mode=L size=128x128 at 0x7F8DD950F3D0>"
            ],
            "image/png": "[encoded data removed]"
          },
          "metadata": {}
        }
      ]
    },
    {
      "cell_type": "code",
      "source": [
        "X_train = np.array(list(map(preProccessing, X_train)))\n",
        "img = X_train[30]\n",
        "cv2.resize(img, (300,300))\n",
        "cv2_imshow(img)"
      ],
      "metadata": {
        "colab": {
          "base_uri": "https://localhost:8080/",
          "height": 145
        },
        "id": "KUk5L_rWGh22",
        "outputId": "084f31b6-7351-4211-d84d-d9c85a3804af"
      },
      "execution_count": 153,
      "outputs": [
        {
          "output_type": "display_data",
          "data": {
            "text/plain": [
              "<PIL.Image.Image image mode=L size=128x128 at 0x7F8DD9B7A6D0>"
            ],
            "image/png": "[encoded data removed]"
          },
          "metadata": {}
        }
      ]
    }
  ]
}