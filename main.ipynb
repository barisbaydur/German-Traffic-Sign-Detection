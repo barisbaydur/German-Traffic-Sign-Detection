{
  "nbformat": 4,
  "nbformat_minor": 0,
  "metadata": {
    "colab": {
      "name": "main.ipynb",
      "provenance": [],
      "collapsed_sections": [],
      "mount_file_id": "1rHSc6dYHGAM2d-FuJ0g_zjZpPcNlZqOg",
      "authorship_tag": "ABX9TyMOsdy2dtKbRtUbo8rRNdfI"
    },
    "kernelspec": {
      "name": "python3",
      "display_name": "Python 3"
    },
    "language_info": {
      "name": "python"
    }
  },
  "cells": [
    {
      "cell_type": "code",
      "source": [
        "%env ROOTPATH=/content/drive/MyDrive/"
      ],
      "metadata": {
        "id": "dMjPAM6k0-Sx"
      },
      "execution_count": null,
      "outputs": []
    },
    {
      "cell_type": "markdown",
      "source": [
        "Download dataset"
      ],
      "metadata": {
        "id": "TUsjZGpB0x2h"
      }
    },
    {
      "cell_type": "code",
      "execution_count": null,
      "metadata": {
        "id": "cNtrsD6xw6f6"
      },
      "outputs": [],
      "source": [
        "!wget https://sid.erda.dk/public/archives/ff17dc924eba88d5d01a807357d6614c/FullIJCNN2013.zip $rootPath"
      ]
    },
    {
      "cell_type": "markdown",
      "source": [
        "Install"
      ],
      "metadata": {
        "id": "NrLW0b2i01iB"
      }
    },
    {
      "cell_type": "code",
      "source": [
        "!unzip ${ROOTPATH}/FullIJCNN2013.zip\n",
        "!mkdir ${ROOTPATH}/dataset/train ${ROOTPATH}/dataset/test\n",
        "!mv ${ROOTPATH}/dataset/00 ${ROOTPATH}/dataset/train/0\n",
        "!mv ${ROOTPATH}/dataset/0* ${ROOTPATH}/dataset/test/\n",
        "!mv ${ROOTPATH}/dataset/0* ${ROOTPATH}/dataset/1* ${ROOTPATH}/dataset/2* ${ROOTPATH}/dataset/3* ${ROOTPATH}/dataset/4* ${ROOTPATH}/dataset/train"
      ],
      "metadata": {
        "id": "JNkmvBHF06NA"
      },
      "execution_count": null,
      "outputs": []
    },
    {
      "cell_type": "markdown",
      "source": [
        "Import Libraries"
      ],
      "metadata": {
        "id": "uE94S99O4xV5"
      }
    },
    {
      "cell_type": "code",
      "source": [
        "import os\n",
        "import cv2\n",
        "import numpy as np\n",
        "import matplotlib.pyplot as plt\n",
        "from pathlib import Path\n",
        "from sklearn.model_selection import train_test_split\n",
        "from google.colab.patches import cv2_imshow\n",
        "from keras.preprocessing.image import ImageDataGenerator\n",
        "from keras.utils.np_utils import to_categorical\n",
        "from keras.layers.pooling import MaxPooling2D\n",
        "from tensorflow import keras\n",
        "from keras import layers\n",
        "from keras.layers import Conv2D\n",
        "import pickle"
      ],
      "metadata": {
        "id": "jeNhlgLA126Y"
      },
      "execution_count": 17,
      "outputs": []
    },
    {
      "cell_type": "markdown",
      "source": [
        "Variable"
      ],
      "metadata": {
        "id": "eafihoIe6v2v"
      }
    },
    {
      "cell_type": "code",
      "source": [
        "rootDir = Path(\"/content/drive/MyDrive/Traffic-Sign/\")\n",
        "dataDir = rootDir/\"dataset/\"\n",
        "trainDir = dataDir/\"train/\"\n",
        "testDir = dataDir/\"test/\"\n",
        "\n",
        "testRatio = 0.2\n",
        "validationRatio = 0.2\n",
        "imageDimensions = (64, 64)"
      ],
      "metadata": {
        "id": "M7ceN7ce6zAn"
      },
      "execution_count": 18,
      "outputs": []
    },
    {
      "cell_type": "code",
      "source": [
        "numberOfClasses = len(os.listdir(trainDir))\n",
        "print(\"Class number: {}\".format(numberOfClasses))"
      ],
      "metadata": {
        "colab": {
          "base_uri": "https://localhost:8080/"
        },
        "id": "si-XevGj5YWp",
        "outputId": "ed9e5a0f-4094-4a84-d2c8-bab9c1621f92"
      },
      "execution_count": 19,
      "outputs": [
        {
          "output_type": "stream",
          "name": "stdout",
          "text": [
            "Class number: 43\n"
          ]
        }
      ]
    },
    {
      "cell_type": "markdown",
      "source": [
        "Load Training Data"
      ],
      "metadata": {
        "id": "4GOgCOBe_Nyn"
      }
    },
    {
      "cell_type": "code",
      "source": [
        "images = []\n",
        "classes = []\n",
        "\n",
        "for folder in trainDir.glob(\"*\"):\n",
        "  trainImage = (trainDir/folder.name).glob(\"*.ppm\")\n",
        "  for img in trainImage:\n",
        "    images.append(trainDir/folder.name/img)\n",
        "    classes.append(int(folder.name))\n",
        "\n",
        "images = np.array(images)\n",
        "classes = np.array(classes)"
      ],
      "metadata": {
        "id": "9wPbJ3Mu6SUO"
      },
      "execution_count": 20,
      "outputs": []
    },
    {
      "cell_type": "markdown",
      "source": [
        "Spliting Data"
      ],
      "metadata": {
        "id": "6hbn4SCv_c6f"
      }
    },
    {
      "cell_type": "code",
      "source": [
        "X_train, X_test, Y_train, Y_test = train_test_split(images, classes, test_size=testRatio)\n",
        "X_train, X_validation, Y_train, Y_validation = train_test_split(X_train, Y_train, test_size=validationRatio)\n",
        "\n",
        "X_train = np.array(X_train)\n",
        "X_test = np.array(X_test)\n",
        "X_validation = np.array(X_validation)\n",
        "\n",
        "Y_train = np.array(Y_train)\n",
        "Y_test = np.array(Y_test)\n",
        "Y_validation = np.array(Y_validation)"
      ],
      "metadata": {
        "id": "7JRNZQrj_hoZ"
      },
      "execution_count": 21,
      "outputs": []
    },
    {
      "cell_type": "markdown",
      "source": [
        "Number of the Samples"
      ],
      "metadata": {
        "id": "tMU7g9KJCqGv"
      }
    },
    {
      "cell_type": "code",
      "source": [
        "numberOfSamples = []\n",
        "for i in range(0, numberOfClasses):\n",
        "  numberOfSamples.append(len(np.where(Y_train==i)[0]))\n",
        "print(numberOfSamples)"
      ],
      "metadata": {
        "colab": {
          "base_uri": "https://localhost:8080/"
        },
        "id": "Ho4IGJT-CseX",
        "outputId": "4a33068e-6d72-479b-d1fb-8fa182857d6c"
      },
      "execution_count": 22,
      "outputs": [
        {
          "output_type": "stream",
          "name": "stdout",
          "text": [
            "[4, 49, 52, 17, 48, 34, 11, 28, 39, 25, 50, 26, 51, 53, 21, 7, 8, 22, 22, 1, 6, 3, 9, 11, 2, 18, 11, 1, 9, 5, 12, 1, 5, 9, 7, 14, 8, 1, 54, 5, 7, 3, 7]\n"
          ]
        }
      ]
    },
    {
      "cell_type": "code",
      "source": [
        "plt.figure(figsize=(10, 5))\n",
        "plt.bar(range(0, numberOfClasses), numberOfSamples)\n",
        "plt.title(\"Number of Images for Each Class\")\n",
        "plt.xlabel(\"Class ID\")\n",
        "plt.ylabel(\"Number of Images\")\n",
        "plt.show()"
      ],
      "metadata": {
        "colab": {
          "base_uri": "https://localhost:8080/",
          "height": 350
        },
        "id": "No1zd8UjELDq",
        "outputId": "ea1fa3a0-79c4-4a8e-ac8a-82ca9bbc2d58"
      },
      "execution_count": 23,
      "outputs": [
        {
          "output_type": "display_data",
          "data": {
            "text/plain": [
              "<Figure size 720x360 with 1 Axes>"
            ],
            "image/png": "[encoded data removed]"
          },
          "metadata": {
            "needs_background": "light"
          }
        }
      ]
    },
    {
      "cell_type": "markdown",
      "source": [
        "Preproccessing"
      ],
      "metadata": {
        "id": "qXVIq3x4E0MF"
      }
    },
    {
      "cell_type": "code",
      "source": [
        "def preProccessing(img):\n",
        "  img = cv2.imread(str(img))\n",
        "  img = cv2.resize(img, (imageDimensions[0], imageDimensions[1]))\n",
        "  img = cv2.cvtColor(img, cv2.COLOR_BGR2GRAY)\n",
        "  img = cv2.equalizeHist(img)\n",
        "  img = (img/255).astype(np.float32)\n",
        "  return img\n",
        "\n",
        "img = preProccessing(X_train[30])\n",
        "cv2_imshow(img)"
      ],
      "metadata": {
        "colab": {
          "base_uri": "https://localhost:8080/",
          "height": 81
        },
        "id": "IqXZ1wVCE2Hd",
        "outputId": "f3f095a2-09e2-4660-8c01-7f5f1fb9460d"
      },
      "execution_count": 33,
      "outputs": [
        {
          "output_type": "display_data",
          "data": {
            "text/plain": [
              "<PIL.Image.Image image mode=L size=64x64 at 0x7FE1A77B14D0>"
            ],
            "image/png": "[encoded data removed]"
          },
          "metadata": {}
        }
      ]
    },
    {
      "cell_type": "code",
      "source": [
        "X_train = np.array(list(map(preProccessing, X_train)))\n",
        "X_test = np.array(list(map(preProccessing, X_test)))\n",
        "X_validation = np.array(list(map(preProccessing, X_validation)))"
      ],
      "metadata": {
        "id": "KUk5L_rWGh22"
      },
      "execution_count": 34,
      "outputs": []
    },
    {
      "cell_type": "code",
      "source": [
        "# img = X_train[30]\n",
        "# cv2.resize(img, (300,300))\n",
        "# cv2_imshow(img)\n",
        "\n",
        "X_train = X_train.reshape(X_train.shape[0], X_train.shape[1], X_train.shape[2], 1)\n",
        "X_test = X_test.reshape(X_test.shape[0], X_test.shape[1], X_test.shape[2], 1)\n",
        "X_validation = X_validation.reshape(X_validation.shape[0], X_validation.shape[1], X_validation.shape[2], 1)\n",
        "print(X_train.shape)"
      ],
      "metadata": {
        "colab": {
          "base_uri": "https://localhost:8080/"
        },
        "id": "sqX0OYCj1INw",
        "outputId": "1af74871-5731-43cd-fb8b-781ecbd59c34"
      },
      "execution_count": 35,
      "outputs": [
        {
          "output_type": "stream",
          "name": "stdout",
          "text": [
            "(776, 64, 64, 1)\n"
          ]
        }
      ]
    },
    {
      "cell_type": "code",
      "source": [
        "dataGen = ImageDataGenerator(width_shift_range=0.1,\n",
        "                             height_shift_range=0.1,\n",
        "                             zoom_range=0.2,\n",
        "                             shear_range=0.1,\n",
        "                             rotation_range=10)\n",
        "dataGen.fit(X_train)\n",
        "Y_train = to_categorical(Y_train, numberOfClasses)\n",
        "Y_test = to_categorical(Y_test, numberOfClasses)\n",
        "Y_validation = to_categorical(Y_validation, numberOfClasses)"
      ],
      "metadata": {
        "id": "6_iYM0I_3BU4"
      },
      "execution_count": 36,
      "outputs": []
    },
    {
      "cell_type": "code",
      "source": [
        "import tensorflow\n",
        "def myModel():\n",
        "  numberOfFilters = 32\n",
        "  sizeOfFilter1 = (5, 5)\n",
        "  sizeOfFilter2 = (3, 3)\n",
        "  sizeOfPool = (2, 2)\n",
        "  numberOfNode = 1000\n",
        "\n",
        "  model = keras.Sequential()\n",
        "  model.add((Conv2D(numberOfFilters, sizeOfFilter1, input_shape=(imageDimensions[0],\n",
        "                                                                       imageDimensions[1],\n",
        "                                                                       1), activation=\"relu\")))\n",
        "  model.add((Conv2D(numberOfFilters, sizeOfFilter1, activation=\"relu\")))\n",
        "  model.add(MaxPooling2D(pool_size=sizeOfPool))\n",
        "  model.add((Conv2D(numberOfFilters*2, sizeOfFilter2, activation=\"relu\")))\n",
        "  model.add((Conv2D(numberOfFilters*2, sizeOfFilter2, activation=\"relu\")))\n",
        "  model.add(MaxPooling2D(pool_size=sizeOfPool))\n",
        "  model.add(keras.layers.Dropout(0.25))\n",
        "\n",
        "  model.add(keras.layers.Flatten())\n",
        "  model.add(keras.layers.Dense(numberOfNode, activation=\"relu\"))\n",
        "  model.add(keras.layers.Dropout(0.25))\n",
        "  model.add(keras.layers.Dense(numberOfClasses, activation=\"softmax\"))\n",
        "  model.compile(optimizer='adam',\n",
        "                loss='categorical_crossentropy',\n",
        "                metrics=['accuracy'])\n",
        "  return model\n",
        "\n",
        "model = myModel()\n",
        "# print(model.summary())"
      ],
      "metadata": {
        "id": "FftiUAYR4HlP"
      },
      "execution_count": 37,
      "outputs": []
    },
    {
      "cell_type": "code",
      "source": [
        "batchSizeValue = 32\n",
        "epochsValue = 15\n",
        "stepsPerEpoch = len(X_train)//batchSizeValue\n",
        "\n",
        "history = model.fit(dataGen.flow(X_train, Y_train,\n",
        "                                 batch_size=batchSizeValue),\n",
        "                    steps_per_epoch=stepsPerEpoch,\n",
        "                    epochs=epochsValue,\n",
        "                    validation_data=(X_validation, Y_validation),\n",
        "                    shuffle=1)\n",
        "\n"
      ],
      "metadata": {
        "colab": {
          "base_uri": "https://localhost:8080/"
        },
        "id": "fsOL6muILyyE",
        "outputId": "0ce7f279-92ec-4902-dabe-7346b35b2815"
      },
      "execution_count": 38,
      "outputs": [
        {
          "output_type": "stream",
          "name": "stdout",
          "text": [
            "Epoch 1/15\n",
            "24/24 [==============================] - 24s 975ms/step - loss: 3.4852 - accuracy: 0.0712 - val_loss: 3.1722 - val_accuracy: 0.0928\n",
            "Epoch 2/15\n",
            "24/24 [==============================] - 21s 879ms/step - loss: 3.0176 - accuracy: 0.1855 - val_loss: 2.2645 - val_accuracy: 0.4021\n",
            "Epoch 3/15\n",
            "24/24 [==============================] - 21s 880ms/step - loss: 2.5397 - accuracy: 0.3038 - val_loss: 1.8599 - val_accuracy: 0.5155\n",
            "Epoch 4/15\n",
            "24/24 [==============================] - 21s 876ms/step - loss: 2.0862 - accuracy: 0.4099 - val_loss: 1.2211 - val_accuracy: 0.6959\n",
            "Epoch 5/15\n",
            "24/24 [==============================] - 21s 879ms/step - loss: 1.6296 - accuracy: 0.5148 - val_loss: 1.1847 - val_accuracy: 0.6340\n",
            "Epoch 6/15\n",
            "24/24 [==============================] - 21s 906ms/step - loss: 1.2762 - accuracy: 0.6304 - val_loss: 0.7626 - val_accuracy: 0.8041\n",
            "Epoch 7/15\n",
            "24/24 [==============================] - 23s 962ms/step - loss: 1.1124 - accuracy: 0.6599 - val_loss: 0.6504 - val_accuracy: 0.7732\n",
            "Epoch 8/15\n",
            "24/24 [==============================] - 21s 880ms/step - loss: 1.0598 - accuracy: 0.6653 - val_loss: 0.4952 - val_accuracy: 0.8918\n",
            "Epoch 9/15\n",
            "24/24 [==============================] - 21s 879ms/step - loss: 0.8435 - accuracy: 0.7460 - val_loss: 0.5069 - val_accuracy: 0.8557\n",
            "Epoch 10/15\n",
            "24/24 [==============================] - 21s 878ms/step - loss: 0.6717 - accuracy: 0.7930 - val_loss: 0.3061 - val_accuracy: 0.9278\n",
            "Epoch 11/15\n",
            "24/24 [==============================] - 21s 902ms/step - loss: 0.6398 - accuracy: 0.8024 - val_loss: 0.3931 - val_accuracy: 0.8969\n",
            "Epoch 12/15\n",
            "24/24 [==============================] - 21s 882ms/step - loss: 0.6221 - accuracy: 0.8145 - val_loss: 0.2511 - val_accuracy: 0.9433\n",
            "Epoch 13/15\n",
            "24/24 [==============================] - 21s 877ms/step - loss: 0.6296 - accuracy: 0.7890 - val_loss: 0.3134 - val_accuracy: 0.9072\n",
            "Epoch 14/15\n",
            "24/24 [==============================] - 21s 878ms/step - loss: 0.4576 - accuracy: 0.8602 - val_loss: 0.2285 - val_accuracy: 0.9381\n",
            "Epoch 15/15\n",
            "24/24 [==============================] - 22s 899ms/step - loss: 0.4497 - accuracy: 0.8542 - val_loss: 0.2489 - val_accuracy: 0.9072\n"
          ]
        }
      ]
    },
    {
      "cell_type": "code",
      "source": [
        "plt.figure(1)\n",
        "plt.plot(history.history['loss'])\n",
        "plt.plot(history.history['val_loss'])\n",
        "plt.legend(['training', 'validation'])\n",
        "plt.title('Loss')\n",
        "plt.xlabel('epoch')\n",
        "\n",
        "plt.figure(2)\n",
        "plt.plot(history.history['accuracy'])\n",
        "plt.plot(history.history['val_accuracy'])\n",
        "plt.legend(['training', 'validation'])\n",
        "plt.title('Accuracy')\n",
        "plt.xlabel('epoch')\n",
        "\n",
        "plt.show()\n",
        "score = model.evaluate(X_test, Y_test, verbose=0)\n",
        "print(\"Test Score: {}\".format(score[0]))\n",
        "print(\"Test Accuracy: {}\".format(score[1]))\n",
        "\n",
        "pickleOut = open(rootDir/\"modelTrained.p\", \"wb\")\n",
        "pickle.dump(model, pickleOut)\n",
        "pickleOut.close()"
      ],
      "metadata": {
        "colab": {
          "base_uri": "https://localhost:8080/",
          "height": 625
        },
        "id": "dk3sQVOePdoA",
        "outputId": "473084b5-7e00-426f-bbb1-1ff3c857c1a4"
      },
      "execution_count": 39,
      "outputs": [
        {
          "output_type": "display_data",
          "data": {
            "text/plain": [
              "<Figure size 432x288 with 1 Axes>"
            ],
            "image/png": "[encoded data removed]"
          },
          "metadata": {
            "needs_background": "light"
          }
        },
        {
          "output_type": "display_data",
          "data": {
            "text/plain": [
              "<Figure size 432x288 with 1 Axes>"
            ],
            "image/png": "[encoded data removed]"
          },
          "metadata": {
            "needs_background": "light"
          }
        },
        {
          "output_type": "stream",
          "name": "stdout",
          "text": [
            "Test Score: 0.23046453297138214\n",
            "Test Accuracy: 0.9094650149345398\n",
            "INFO:tensorflow:Assets written to: ram://f65ad7e2-af3c-4b57-a361-837d3557b2fc/assets\n"
          ]
        }
      ]
    },
    {
      "cell_type": "code",
      "source": [
        "pickleIn = open(rootDir/\"modelTrained.p\", \"rb\")\n",
        "model = pickle.load(pickleIn)\n",
        "\n",
        "img = preProccessing(str(trainDir/\"22\"/\"00003.ppm\"))\n",
        "# img = preProccessing(str(testDir/\"00004.ppm\"))\n",
        "cv2_imshow(img)\n",
        "img = img.reshape(1, 64, 64, 1)\n",
        "\n",
        "prediction = model.predict(img)\n",
        "probVal = np.amax(prediction)\n",
        "classIndex = np.argmax(prediction, axis=1)\n",
        "print(classIndex, probVal)"
      ],
      "metadata": {
        "colab": {
          "base_uri": "https://localhost:8080/",
          "height": 98
        },
        "id": "UnOBhB2uRxNO",
        "outputId": "542a2bea-d066-4dbb-923f-7b26dc741ecb"
      },
      "execution_count": 46,
      "outputs": [
        {
          "output_type": "display_data",
          "data": {
            "text/plain": [
              "<PIL.Image.Image image mode=L size=64x64 at 0x7FE1A6424F90>"
            ],
            "image/png": "[encoded data removed]"
          },
          "metadata": {}
        },
        {
          "output_type": "stream",
          "name": "stdout",
          "text": [
            "[22] 0.9996941\n"
          ]
        }
      ]
    },
    {
      "cell_type": "markdown",
      "source": [
        ""
      ],
      "metadata": {
        "id": "YwCDKWPZbmuX"
      }
    }
  ]
}