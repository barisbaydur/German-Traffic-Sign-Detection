{
  "nbformat": 4,
  "nbformat_minor": 0,
  "metadata": {
    "colab": {
      "name": "main.ipynb",
      "provenance": [],
      "collapsed_sections": [],
      "mount_file_id": "1rHSc6dYHGAM2d-FuJ0g_zjZpPcNlZqOg",
      "authorship_tag": "ABX9TyMxMh7CtaBsVaeOvX6tFp8n"
    },
    "kernelspec": {
      "name": "python3",
      "display_name": "Python 3"
    },
    "language_info": {
      "name": "python"
    }
  },
  "cells": [
    {
      "cell_type": "code",
      "source": [
        "%env ROOTPATH=/content/drive/MyDrive/"
      ],
      "metadata": {
        "id": "dMjPAM6k0-Sx"
      },
      "execution_count": null,
      "outputs": []
    },
    {
      "cell_type": "markdown",
      "source": [
        "Download dataset"
      ],
      "metadata": {
        "id": "TUsjZGpB0x2h"
      }
    },
    {
      "cell_type": "code",
      "execution_count": null,
      "metadata": {
        "id": "cNtrsD6xw6f6"
      },
      "outputs": [],
      "source": [
        "!wget https://sid.erda.dk/public/archives/ff17dc924eba88d5d01a807357d6614c/FullIJCNN2013.zip $rootPath"
      ]
    },
    {
      "cell_type": "markdown",
      "source": [
        "Install"
      ],
      "metadata": {
        "id": "NrLW0b2i01iB"
      }
    },
    {
      "cell_type": "code",
      "source": [
        "!unzip ${ROOTPATH}/FullIJCNN2013.zip\n",
        "!mkdir ${ROOTPATH}/dataset/train ${ROOTPATH}/dataset/test\n",
        "!mv ${ROOTPATH}/dataset/00 ${ROOTPATH}/dataset/train/0\n",
        "!mv ${ROOTPATH}/dataset/0* ${ROOTPATH}/dataset/test/\n",
        "!mv ${ROOTPATH}/dataset/0* ${ROOTPATH}/dataset/1* ${ROOTPATH}/dataset/2* ${ROOTPATH}/dataset/3* ${ROOTPATH}/dataset/4* ${ROOTPATH}/dataset/train"
      ],
      "metadata": {
        "id": "JNkmvBHF06NA"
      },
      "execution_count": null,
      "outputs": []
    },
    {
      "cell_type": "markdown",
      "source": [
        "Import Libraries"
      ],
      "metadata": {
        "id": "uE94S99O4xV5"
      }
    },
    {
      "cell_type": "code",
      "source": [
        "import os\n",
        "import cv2\n",
        "import numpy as np\n",
        "import matplotlib.pyplot as plt\n",
        "from pathlib import Path\n",
        "from sklearn.model_selection import train_test_split\n",
        "from google.colab.patches import cv2_imshow\n",
        "from keras.preprocessing.image import ImageDataGenerator\n",
        "from keras.utils.np_utils import to_categorical\n",
        "from keras.layers.pooling import MaxPooling2D\n",
        "from tensorflow import keras\n",
        "from keras import layers\n",
        "from keras.layers import Conv2D\n",
        "import pickle"
      ],
      "metadata": {
        "id": "jeNhlgLA126Y"
      },
      "execution_count": 1,
      "outputs": []
    },
    {
      "cell_type": "markdown",
      "source": [
        "Variable"
      ],
      "metadata": {
        "id": "eafihoIe6v2v"
      }
    },
    {
      "cell_type": "code",
      "source": [
        "rootDir = Path(\"/content/drive/MyDrive/Traffic-Sign/\")\n",
        "dataDir = rootDir/\"dataset/\"\n",
        "trainDir = dataDir/\"train/\"\n",
        "testDir = dataDir/\"test/\"\n",
        "\n",
        "testRatio = 0.2\n",
        "validationRatio = 0.2\n",
        "imageDimensions = (64, 64)"
      ],
      "metadata": {
        "id": "M7ceN7ce6zAn"
      },
      "execution_count": 15,
      "outputs": []
    },
    {
      "cell_type": "code",
      "source": [
        "numberOfClasses = len(os.listdir(trainDir))\n",
        "print(\"Class number: {}\".format(numberOfClasses))"
      ],
      "metadata": {
        "colab": {
          "base_uri": "https://localhost:8080/"
        },
        "id": "si-XevGj5YWp",
        "outputId": "b03917c9-b391-44cb-a7a8-15d464bdc59e"
      },
      "execution_count": 16,
      "outputs": [
        {
          "output_type": "stream",
          "name": "stdout",
          "text": [
            "Class number: 43\n"
          ]
        }
      ]
    },
    {
      "cell_type": "markdown",
      "source": [
        "Load Training Data"
      ],
      "metadata": {
        "id": "4GOgCOBe_Nyn"
      }
    },
    {
      "cell_type": "code",
      "source": [
        "images = []\n",
        "classes = []\n",
        "\n",
        "for folder in trainDir.glob(\"*\"):\n",
        "  trainImage = (trainDir/folder.name).glob(\"*.ppm\")\n",
        "  for img in trainImage:\n",
        "    images.append(trainDir/folder.name/img)\n",
        "    classes.append(int(folder.name))\n",
        "\n",
        "images = np.array(images)\n",
        "classes = np.array(classes)"
      ],
      "metadata": {
        "id": "9wPbJ3Mu6SUO"
      },
      "execution_count": 17,
      "outputs": []
    },
    {
      "cell_type": "markdown",
      "source": [
        "Spliting Data"
      ],
      "metadata": {
        "id": "6hbn4SCv_c6f"
      }
    },
    {
      "cell_type": "code",
      "source": [
        "X_train, X_test, Y_train, Y_test = train_test_split(images, classes, test_size=testRatio)\n",
        "X_train, X_validation, Y_train, Y_validation = train_test_split(X_train, Y_train, test_size=validationRatio)\n",
        "\n",
        "X_train = np.array(X_train)\n",
        "X_test = np.array(X_test)\n",
        "X_validation = np.array(X_validation)\n",
        "\n",
        "Y_train = np.array(Y_train)\n",
        "Y_test = np.array(Y_test)\n",
        "Y_validation = np.array(Y_validation)"
      ],
      "metadata": {
        "id": "7JRNZQrj_hoZ"
      },
      "execution_count": 18,
      "outputs": []
    },
    {
      "cell_type": "markdown",
      "source": [
        "Number of the Samples"
      ],
      "metadata": {
        "id": "tMU7g9KJCqGv"
      }
    },
    {
      "cell_type": "code",
      "source": [
        "numberOfSamples = []\n",
        "for i in range(0, numberOfClasses):\n",
        "  numberOfSamples.append(len(np.where(Y_train==i)[0]))\n",
        "print(numberOfSamples)"
      ],
      "metadata": {
        "colab": {
          "base_uri": "https://localhost:8080/"
        },
        "id": "Ho4IGJT-CseX",
        "outputId": "63bc5756-1d26-424a-ddb3-a1e08f845ff5"
      },
      "execution_count": 19,
      "outputs": [
        {
          "output_type": "stream",
          "name": "stdout",
          "text": [
            "[3, 51, 50, 16, 34, 31, 14, 29, 34, 27, 57, 22, 53, 49, 19, 9, 5, 21, 23, 1, 8, 5, 10, 15, 3, 19, 12, 2, 9, 4, 13, 1, 6, 11, 8, 12, 8, 1, 59, 3, 7, 4, 8]\n"
          ]
        }
      ]
    },
    {
      "cell_type": "code",
      "source": [
        "plt.figure(figsize=(10, 5))\n",
        "plt.bar(range(0, numberOfClasses), numberOfSamples)\n",
        "plt.title(\"Number of Images for Each Class\")\n",
        "plt.xlabel(\"Class ID\")\n",
        "plt.ylabel(\"Number of Images\")\n",
        "plt.show()"
      ],
      "metadata": {
        "colab": {
          "base_uri": "https://localhost:8080/",
          "height": 350
        },
        "id": "No1zd8UjELDq",
        "outputId": "2b9bc1f5-ec8d-4f73-8c31-f39c55de7efd"
      },
      "execution_count": 20,
      "outputs": [
        {
          "output_type": "display_data",
          "data": {
            "text/plain": [
              "<Figure size 720x360 with 1 Axes>"
            ],
            "image/png": "[encoded data removed]"
          },
          "metadata": {
            "needs_background": "light"
          }
        }
      ]
    },
    {
      "cell_type": "markdown",
      "source": [
        "Preproccessing"
      ],
      "metadata": {
        "id": "qXVIq3x4E0MF"
      }
    },
    {
      "cell_type": "code",
      "source": [
        "def preProccessing(img):\n",
        "  img = cv2.imread(str(img))\n",
        "  img = cv2.resize(img, (imageDimensions[0], imageDimensions[1]))\n",
        "  img = cv2.cvtColor(img, cv2.COLOR_BGR2GRAY)\n",
        "  img = cv2.equalizeHist(img)\n",
        "  # img = img/255.\n",
        "  return img\n",
        "\n",
        "img = preProccessing(X_train[30])\n",
        "cv2_imshow(img)"
      ],
      "metadata": {
        "colab": {
          "base_uri": "https://localhost:8080/",
          "height": 81
        },
        "id": "IqXZ1wVCE2Hd",
        "outputId": "ddb2af1a-3ee1-49b3-e2a5-27a431f43088"
      },
      "execution_count": 21,
      "outputs": [
        {
          "output_type": "display_data",
          "data": {
            "text/plain": [
              "<PIL.Image.Image image mode=L size=64x64 at 0x7F46CA8CEF50>"
            ],
            "image/png": "[encoded data removed]"
          },
          "metadata": {}
        }
      ]
    },
    {
      "cell_type": "code",
      "source": [
        "X_train = np.array(list(map(preProccessing, X_train)))\n",
        "X_test = np.array(list(map(preProccessing, X_test)))\n",
        "X_validation = np.array(list(map(preProccessing, X_validation)))"
      ],
      "metadata": {
        "id": "KUk5L_rWGh22"
      },
      "execution_count": 22,
      "outputs": []
    },
    {
      "cell_type": "code",
      "source": [
        "# img = X_train[30]\n",
        "# cv2.resize(img, (300,300))\n",
        "# cv2_imshow(img)\n",
        "\n",
        "X_train = X_train.reshape(X_train.shape[0], X_train.shape[1], X_train.shape[2], 1)\n",
        "X_test = X_test.reshape(X_test.shape[0], X_test.shape[1], X_test.shape[2], 1)\n",
        "X_validation = X_validation.reshape(X_validation.shape[0], X_validation.shape[1], X_validation.shape[2], 1)\n",
        "print(X_train.shape)"
      ],
      "metadata": {
        "colab": {
          "base_uri": "https://localhost:8080/"
        },
        "id": "sqX0OYCj1INw",
        "outputId": "818118d3-07f4-42b0-e6e0-7142142215d4"
      },
      "execution_count": 23,
      "outputs": [
        {
          "output_type": "stream",
          "name": "stdout",
          "text": [
            "(776, 64, 64, 1)\n"
          ]
        }
      ]
    },
    {
      "cell_type": "code",
      "source": [
        "dataGen = ImageDataGenerator(width_shift_range=0.1,\n",
        "                             height_shift_range=0.1,\n",
        "                             zoom_range=0.2,\n",
        "                             shear_range=0.1,\n",
        "                             rotation_range=10)\n",
        "dataGen.fit(X_train)\n",
        "Y_train = to_categorical(Y_train, numberOfClasses)\n",
        "Y_test = to_categorical(Y_test, numberOfClasses)\n",
        "Y_validation = to_categorical(Y_validation, numberOfClasses)"
      ],
      "metadata": {
        "id": "6_iYM0I_3BU4"
      },
      "execution_count": 24,
      "outputs": []
    },
    {
      "cell_type": "code",
      "source": [
        "import tensorflow\n",
        "def myModel():\n",
        "  numberOfFilters = 32\n",
        "  sizeOfFilter1 = (5, 5)\n",
        "  sizeOfFilter2 = (3, 3)\n",
        "  sizeOfPool = (2, 2)\n",
        "  numberOfNode = 1000\n",
        "\n",
        "  model = keras.Sequential()\n",
        "  model.add((Conv2D(numberOfFilters, sizeOfFilter1, input_shape=(imageDimensions[0],\n",
        "                                                                       imageDimensions[1],\n",
        "                                                                       1), activation=\"relu\")))\n",
        "  model.add((Conv2D(numberOfFilters, sizeOfFilter1, activation=\"relu\")))\n",
        "  model.add(MaxPooling2D(pool_size=sizeOfPool))\n",
        "  model.add((Conv2D(numberOfFilters*2, sizeOfFilter2, activation=\"relu\")))\n",
        "  model.add((Conv2D(numberOfFilters*2, sizeOfFilter2, activation=\"relu\")))\n",
        "  model.add(MaxPooling2D(pool_size=sizeOfPool))\n",
        "  model.add(keras.layers.Dropout(0.25))\n",
        "\n",
        "  model.add(keras.layers.Flatten())\n",
        "  model.add(keras.layers.Dense(numberOfNode, activation=\"relu\"))\n",
        "  model.add(keras.layers.Dropout(0.25))\n",
        "  model.add(keras.layers.Dense(numberOfClasses, activation=\"softmax\"))\n",
        "  model.compile(optimizer='adam',\n",
        "                loss='categorical_crossentropy',\n",
        "                metrics=['accuracy'])\n",
        "  return model\n",
        "\n",
        "model = myModel()\n",
        "# print(model.summary())"
      ],
      "metadata": {
        "id": "FftiUAYR4HlP"
      },
      "execution_count": 68,
      "outputs": []
    },
    {
      "cell_type": "code",
      "source": [
        "batchSizeValue = 32\n",
        "epochsValue = 15\n",
        "stepsPerEpoch = len(X_train)//batchSizeValue\n",
        "\n",
        "history = model.fit(dataGen.flow(X_train, Y_train,\n",
        "                                 batch_size=batchSizeValue),\n",
        "                    steps_per_epoch=stepsPerEpoch,\n",
        "                    epochs=epochsValue,\n",
        "                    validation_data=(X_validation, Y_validation),\n",
        "                    shuffle=1)\n",
        "\n"
      ],
      "metadata": {
        "colab": {
          "base_uri": "https://localhost:8080/"
        },
        "id": "fsOL6muILyyE",
        "outputId": "0674a484-3533-480d-93e3-112935431c7f"
      },
      "execution_count": 69,
      "outputs": [
        {
          "output_type": "stream",
          "name": "stdout",
          "text": [
            "Epoch 1/15\n",
            "24/24 [==============================] - 24s 959ms/step - loss: 11.4820 - accuracy: 0.0833 - val_loss: 3.1433 - val_accuracy: 0.2423\n",
            "Epoch 2/15\n",
            "24/24 [==============================] - 22s 901ms/step - loss: 3.1527 - accuracy: 0.2083 - val_loss: 2.3278 - val_accuracy: 0.4124\n",
            "Epoch 3/15\n",
            "24/24 [==============================] - 22s 904ms/step - loss: 2.5681 - accuracy: 0.3414 - val_loss: 1.8114 - val_accuracy: 0.4330\n",
            "Epoch 4/15\n",
            "24/24 [==============================] - 23s 923ms/step - loss: 2.1181 - accuracy: 0.4194 - val_loss: 1.3250 - val_accuracy: 0.6443\n",
            "Epoch 5/15\n",
            "24/24 [==============================] - 23s 951ms/step - loss: 1.8216 - accuracy: 0.4852 - val_loss: 1.2830 - val_accuracy: 0.5773\n",
            "Epoch 6/15\n",
            "24/24 [==============================] - 22s 935ms/step - loss: 1.5708 - accuracy: 0.5645 - val_loss: 0.8213 - val_accuracy: 0.7165\n",
            "Epoch 7/15\n",
            "24/24 [==============================] - 22s 904ms/step - loss: 1.2475 - accuracy: 0.6116 - val_loss: 0.6621 - val_accuracy: 0.8144\n",
            "Epoch 8/15\n",
            "24/24 [==============================] - 22s 926ms/step - loss: 1.1247 - accuracy: 0.6546 - val_loss: 0.7634 - val_accuracy: 0.7474\n",
            "Epoch 9/15\n",
            "24/24 [==============================] - 22s 925ms/step - loss: 1.0705 - accuracy: 0.6694 - val_loss: 0.6922 - val_accuracy: 0.7423\n",
            "Epoch 10/15\n",
            "24/24 [==============================] - 22s 903ms/step - loss: 1.0001 - accuracy: 0.6788 - val_loss: 0.5335 - val_accuracy: 0.8093\n",
            "Epoch 11/15\n",
            "24/24 [==============================] - 22s 909ms/step - loss: 0.9799 - accuracy: 0.7137 - val_loss: 0.5159 - val_accuracy: 0.8557\n",
            "Epoch 12/15\n",
            "24/24 [==============================] - 22s 912ms/step - loss: 0.8371 - accuracy: 0.7540 - val_loss: 0.4182 - val_accuracy: 0.8814\n",
            "Epoch 13/15\n",
            "24/24 [==============================] - 22s 898ms/step - loss: 0.7246 - accuracy: 0.7594 - val_loss: 0.4549 - val_accuracy: 0.8866\n",
            "Epoch 14/15\n",
            "24/24 [==============================] - 22s 903ms/step - loss: 0.7946 - accuracy: 0.7702 - val_loss: 0.3909 - val_accuracy: 0.8711\n",
            "Epoch 15/15\n",
            "24/24 [==============================] - 22s 900ms/step - loss: 0.7008 - accuracy: 0.8051 - val_loss: 0.3308 - val_accuracy: 0.8866\n"
          ]
        }
      ]
    },
    {
      "cell_type": "code",
      "source": [
        "plt.figure(1)\n",
        "plt.plot(history.history['loss'])\n",
        "plt.plot(history.history['val_loss'])\n",
        "plt.legend(['training', 'validation'])\n",
        "plt.title('Loss')\n",
        "plt.xlabel('epoch')\n",
        "\n",
        "plt.figure(2)\n",
        "plt.plot(history.history['accuracy'])\n",
        "plt.plot(history.history['val_accuracy'])\n",
        "plt.legend(['training', 'validation'])\n",
        "plt.title('Accuracy')\n",
        "plt.xlabel('epoch')\n",
        "\n",
        "plt.show()\n",
        "score = model.evaluate(X_test, Y_test, verbose=0)\n",
        "print(\"Test Score: {}\".format(score[0]))\n",
        "print(\"Test Accuracy: {}\".format(score[1]))\n",
        "\n",
        "pickleOut = open(rootDir/\"modelTrained.p\", \"wb\")\n",
        "pickle.dump(model, pickleOut)\n",
        "pickleOut.close()"
      ],
      "metadata": {
        "colab": {
          "base_uri": "https://localhost:8080/",
          "height": 625
        },
        "id": "dk3sQVOePdoA",
        "outputId": "3e041309-ba58-4a9a-ed5d-ce449499ae5b"
      },
      "execution_count": 70,
      "outputs": [
        {
          "output_type": "display_data",
          "data": {
            "text/plain": [
              "<Figure size 432x288 with 1 Axes>"
            ],
            "image/png": "[encoded data removed]"
          },
          "metadata": {
            "needs_background": "light"
          }
        },
        {
          "output_type": "display_data",
          "data": {
            "text/plain": [
              "<Figure size 432x288 with 1 Axes>"
            ],
            "image/png": "[encoded data removed]"
          },
          "metadata": {
            "needs_background": "light"
          }
        },
        {
          "output_type": "stream",
          "name": "stdout",
          "text": [
            "Test Score: 0.32701462507247925\n",
            "Test Accuracy: 0.9176954627037048\n",
            "INFO:tensorflow:Assets written to: ram://71ae002d-46ef-4cc9-ba64-a9f0d6e6bc7f/assets\n"
          ]
        }
      ]
    },
    {
      "cell_type": "code",
      "source": [
        "pickleIn = open(rootDir/\"modelTrained.p\", \"rb\")\n",
        "model = pickle.load(pickleIn)\n",
        "\n",
        "img = preProccessing(str(trainDir/\"10\"/\"00002.ppm\"))\n",
        "cv2_imshow(img)\n",
        "img = img.reshape(1,64,64,1)\n",
        "\n",
        "prediction = model.predict(img)\n",
        "probVal = np.amax(prediction)\n",
        "classIndex = np.argmax(prediction, axis=1)\n",
        "print(classIndex, probVal)"
      ],
      "metadata": {
        "colab": {
          "base_uri": "https://localhost:8080/",
          "height": 98
        },
        "id": "UnOBhB2uRxNO",
        "outputId": "59bf6758-a6c4-4bf0-8bbe-77c9d4a08f5b"
      },
      "execution_count": 75,
      "outputs": [
        {
          "output_type": "display_data",
          "data": {
            "text/plain": [
              "<PIL.Image.Image image mode=L size=64x64 at 0x7F46C074E310>"
            ],
            "image/png": "[encoded data removed]"
          },
          "metadata": {}
        },
        {
          "output_type": "stream",
          "name": "stdout",
          "text": [
            "[10] 0.99902034\n"
          ]
        }
      ]
    },
    {
      "cell_type": "markdown",
      "source": [
        ""
      ],
      "metadata": {
        "id": "YwCDKWPZbmuX"
      }
    }
  ]
}